{
 "cells": [
  {
   "cell_type": "code",
   "execution_count": null,
   "metadata": {},
   "outputs": [],
   "source": [
    "### Project Introduction:\n",
    "# Our project compares differences and aggregates data about restaurants within a mile radius of the top 100 populated schools within the US. \n",
    "# The differences we are analyzing include total of restaurants, \n",
    "# their distances, their pricing, and their types of dining (sit-down, order out, delivery, etc.) available per university to compare one to another."
   ]
  },
  {
   "cell_type": "code",
   "execution_count": null,
   "metadata": {},
   "outputs": [],
   "source": [
    "### Any Changes\n",
    "# Compared to the check-in proposal slides, there has been a shift in what data and results we are looking for. \n",
    "# Previously, we wanted to compare the average healthiness of all restaurants around each university, but when looking at nutritional APIs,\n",
    "#  the data available mostly only included restaurant chains and hardly any of the local restaurants we needed to truly compare the health. \n",
    "#  We then decided to take a different approach by gathering and analyzing the data from what the Yelp fusion API.\n"
   ]
  },
  {
   "cell_type": "code",
   "execution_count": null,
   "metadata": {},
   "outputs": [],
   "source": [
    "### Data\n",
    "# We first needed two sets of data. The first set of data necessary was to gather the top 100 populated universities. \n",
    "# We accomplished this by first using a college scorecard API to find exactly what the top populated universities were. \n",
    "# We then found their addresses by utilizing the google maps API.\n",
    "# To then gather our restaurant data, we used the yelp fusion api to gather the list of all restaurants within a one mile radius around each university’s address.\n"
   ]
  },
  {
   "cell_type": "code",
   "execution_count": null,
   "metadata": {},
   "outputs": [],
   "source": [
    "### Exploratory Data Analysis\n",
    "# Our data compares nominal data to quantitative data being that it looks at each school and maps it to the \n",
    "# average rating of restraunts in that schools area. We utilized a bar chart to effectively display this data.\n",
    "# An example is shown below. We know it needs work to better visualize, but it is a start."
   ]
  },
  {
   "cell_type": "markdown",
   "metadata": {},
   "source": [
    "### Visualization\n",
    "# ![title](rating.png)\n",
    "# ![title](reviews.png)\n",
    "# ![title](distance.png)"
   ]
  },
  {
   "cell_type": "code",
   "execution_count": null,
   "metadata": {},
   "outputs": [],
   "source": [
    "### ML Analysis\n",
    "# With our dataset we can produce a supervised learning algorithm in which we can predict the ratings of a campus dining environment \n",
    "# based on the 100 colleges we used in our database. The colleges are used as the training set to predict different attributes that include, \n",
    "# but are not limited to, average restaurant rating (leveled by 1-5), restaurant popularity (using review counts) and accessibility \n",
    "# (distance between campus and restaurant). There are many more attributes we can take due to the data we can pull from Yelp. \n",
    "# For example, to predict the quality of UIC’s dining experience, we pull the training set data from the 100 colleges with \n",
    "# restaurant data recorded from our database.\n"
   ]
  },
  {
   "cell_type": "code",
   "execution_count": null,
   "metadata": {},
   "outputs": [],
   "source": [
    "### Reflection\n",
    "# One of the most challenging tasks we have had to face was the lack of public college data needed to be pulled via API or through web scraping.\n",
    "# There were websites where you had to be granted permission which could take over a week to be approved. Also, there were websites where there was a fee per query fetch. \n",
    "# This had us with little data to work with but with the contributions of team members we were able to merge university data and retrieve the top one hundred universities based on population.\n",
    "# Given we had a bit of issues acquiring university data, we should still be on track with the project. \n",
    "# We will definitely invest more time comparing university data and finding any interesting data that can be worth acknowledging.\n",
    "# We will continue working with our data and findings as we are on track with the deadlines and presentations coming up.\n"
   ]
  },
  {
   "cell_type": "code",
   "execution_count": null,
   "metadata": {},
   "outputs": [],
   "source": [
    "### Next Steps\n",
    "# We are looking forward to do research to aggregate data about the restaurants. This includes taking all the restaurant from all universities and \n",
    "# sorting them by popularity through review count. We will then also create more visualizations with the data we have already collected as well to further compare differences between schools."
   ]
  },
  {
   "cell_type": "code",
   "execution_count": null,
   "metadata": {},
   "outputs": [],
   "source": [
    "# link\n",
    "\n",
    "# https://github.com/maltizo2/cs-418-at-uic"
   ]
  }
 ],
 "metadata": {
  "kernelspec": {
   "display_name": "Python 3.8.9 64-bit",
   "language": "python",
   "name": "python3"
  },
  "language_info": {
   "codemirror_mode": {
    "name": "ipython",
    "version": 3
   },
   "file_extension": ".py",
   "mimetype": "text/x-python",
   "name": "python",
   "nbconvert_exporter": "python",
   "pygments_lexer": "ipython3",
   "version": "3.8.9"
  },
  "orig_nbformat": 4,
  "vscode": {
   "interpreter": {
    "hash": "31f2aee4e71d21fbe5cf8b01ff0e069b9275f58929596ceb00d14d90e3e16cd6"
   }
  }
 },
 "nbformat": 4,
 "nbformat_minor": 2
}
